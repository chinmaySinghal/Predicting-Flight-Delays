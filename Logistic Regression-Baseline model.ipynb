{
 "cells": [
  {
   "cell_type": "code",
   "execution_count": 26,
   "metadata": {},
   "outputs": [],
   "source": [
    "import pandas as pd\n",
    "import numpy as np\n",
    "from sklearn.model_selection import train_test_split\n",
    "from sklearn.linear_model import LogisticRegression\n",
    "import random\n",
    "from sklearn.model_selection import KFold\n",
    "import matplotlib.pyplot  as plt\n",
    "from sklearn.metrics import confusion_matrix, roc_auc_score, classification_report"
   ]
  },
  {
   "cell_type": "code",
   "execution_count": 18,
   "metadata": {},
   "outputs": [
    {
     "data": {
      "text/plain": [
       "Index(['Y', '9E', 'AA', 'AS', 'B6', 'DL', 'EV', 'HA', 'MQ', 'OH', 'OO', 'UA',\n",
       "       'US', 'VX', 'YX', 'h0', 'h1', 'h2', 'h3', 'h4', 'h5', 'h6', 'h7', 'h8',\n",
       "       'h9', 'h10', 'h11', 'h12', 'h13', 'h14', 'h15', 'h16', 'h17', 'h18',\n",
       "       'h19', 'h20', 'h21', 'h22', 'h23', 'JAN', 'FEB', 'MAR', 'APR', 'MAY',\n",
       "       'JUN', 'JUL', 'AUG', 'SEP', 'OCT', 'NOV', 'DEC'],\n",
       "      dtype='object')"
      ]
     },
     "execution_count": 18,
     "metadata": {},
     "output_type": "execute_result"
    }
   ],
   "source": [
    "data=pd.read_csv('Final.csv',index_col=0)\n",
    "data=data.drop(['WIND_SPEED', 'RAIN', 'SNOW', 'SNOW_DEPTH', 'TAVG', 'FOG', 'HEAVY_FOG',\n",
    "       'THUNDER', 'HAIL', 'GLAZE', 'HAZE', 'BLOWING_SNOW','HOLIDAY'],axis=1)\n",
    "data.columns"
   ]
  },
  {
   "cell_type": "code",
   "execution_count": 19,
   "metadata": {},
   "outputs": [],
   "source": [
    "random.seed(0)\n",
    "X_train, X_test, y_train, y_test = train_test_split(data.drop('Y',axis=1), data['Y'], test_size=0.25)"
   ]
  },
  {
   "cell_type": "code",
   "execution_count": 20,
   "metadata": {},
   "outputs": [
    {
     "name": "stderr",
     "output_type": "stream",
     "text": [
      "/anaconda3/lib/python3.6/site-packages/sklearn/linear_model/logistic.py:432: FutureWarning: Default solver will be changed to 'lbfgs' in 0.22. Specify a solver to silence this warning.\n",
      "  FutureWarning)\n"
     ]
    }
   ],
   "source": [
    "from sklearn import metrics\n",
    "lr=LogisticRegression().fit(X_train,y_train)\n",
    "fpr_lr, tpr_lr, thresholds_lr = metrics.roc_curve(y_test, lr.predict_proba(X_test)[:,1])\n",
    "lr_auc=roc_auc_score(y_test, lr.predict_proba(X_test)[:,1])"
   ]
  },
  {
   "cell_type": "code",
   "execution_count": 30,
   "metadata": {},
   "outputs": [
    {
     "data": {
      "text/plain": [
       "Text(0, 0.5, 'TP rate')"
      ]
     },
     "execution_count": 30,
     "metadata": {},
     "output_type": "execute_result"
    },
    {
     "data": {
      "image/png": "[encoded data removed]",
      "text/plain": [
       "<Figure size 432x288 with 1 Axes>"
      ]
     },
     "metadata": {
      "needs_background": "light"
     },
     "output_type": "display_data"
    }
   ],
   "source": [
    "fig = plt.figure(figsize = (6, 4))\n",
    "ax = fig.add_subplot(111)\n",
    "plt.plot( fpr_lr,tpr_lr, label='ROC_LR(baseline),AUC={}'.format(0.68))\n",
    "plt.plot([0, 1], [0, 1], color='navy', linestyle='--')\n",
    "plt.legend(loc = 4)\n",
    "ax.set_xlabel('FP rate')\n",
    "ax.set_ylabel('TP rate')"
   ]
  },
  {
   "cell_type": "code",
   "execution_count": 24,
   "metadata": {},
   "outputs": [
    {
     "name": "stdout",
     "output_type": "stream",
     "text": [
      "FP Rate:0.009009009009009009\n",
      "Precision:0.6482412060301508\n",
      "Recall:0.07007354170148755\n",
      "FN rate:0.18188876629479792\n",
      "Accuracy:0.8145939716028238\n",
      "F-Score:0.12647535729099893\n"
     ]
    }
   ],
   "source": [
    "cm=confusion_matrix(y_test,lr.predict(X_test))\n",
    "prec=cm[1][1]/(cm[0][1]+cm[1][1])\n",
    "recall=cm[1][1]/(cm[1][0]+cm[1][1])\n",
    "f=2*prec*recall/(prec+recall)\n",
    "print ('FP Rate:{}'.format(cm[0][1]/(cm[0][1]+cm[0][0])))\n",
    "print ('Precision:{}'.format(prec))\n",
    "print ('Recall:{}'.format(recall))\n",
    "print ('FN rate:{}'.format(cm[1][0]/(cm[1][0]+cm[0][0])))\n",
    "print ('Accuracy:{}'.format(lr.score(X_test,y_test)))\n",
    "print ('F-Score:{}'.format(f))"
   ]
  },
  {
   "cell_type": "code",
   "execution_count": 17,
   "metadata": {},
   "outputs": [
    {
     "data": {
      "text/plain": [
       "0.8096076579532904"
      ]
     },
     "execution_count": 17,
     "metadata": {},
     "output_type": "execute_result"
    }
   ],
   "source": [
    "y_test[y_test==0].count()/y_test.shape[0]"
   ]
  },
  {
   "cell_type": "code",
   "execution_count": 28,
   "metadata": {},
   "outputs": [
    {
     "name": "stdout",
     "output_type": "stream",
     "text": [
      "              precision    recall  f1-score   support\n",
      "\n",
      "           0       0.82      0.99      0.90    101010\n",
      "           1       0.65      0.07      0.13     23932\n",
      "\n",
      "   micro avg       0.81      0.81      0.81    124942\n",
      "   macro avg       0.73      0.53      0.51    124942\n",
      "weighted avg       0.79      0.81      0.75    124942\n",
      "\n"
     ]
    }
   ],
   "source": [
    "target=['0','1']\n",
    "print (classification_report(y_test,lr.predict(X_test), target_names=target))"
   ]
  },
  {
   "cell_type": "code",
   "execution_count": null,
   "metadata": {},
   "outputs": [],
   "source": []
  }
 ],
 "metadata": {
  "kernelspec": {
   "display_name": "Python 3",
   "language": "python",
   "name": "python3"
  },
  "language_info": {
   "codemirror_mode": {
    "name": "ipython",
    "version": 3
   },
   "file_extension": ".py",
   "mimetype": "text/x-python",
   "name": "python",
   "nbconvert_exporter": "python",
   "pygments_lexer": "ipython3",
   "version": "3.6.6"
  }
 },
 "nbformat": 4,
 "nbformat_minor": 2
}
