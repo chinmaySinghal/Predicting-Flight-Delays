{
 "cells": [
  {
   "cell_type": "code",
   "execution_count": 19,
   "metadata": {},
   "outputs": [],
   "source": [
    "import pandas as pd\n",
    "import numpy as np\n",
    "import datetime as dt"
   ]
  },
  {
   "cell_type": "code",
   "execution_count": 15,
   "metadata": {},
   "outputs": [
    {
     "data": {
      "text/plain": [
       "Index(['YEAR', 'MONTH', 'DAY_OF_MONTH', 'OP_UNIQUE_CARRIER', 'DEP_TIME',\n",
       "       'DATE', 'STATION', 'NAME', 'AWND', 'PRCP', 'SNOW', 'SNWD', 'TAVG',\n",
       "       'WSF2', 'WT01', 'WT02', 'WT03', 'WT04', 'WT06', 'WT08', 'WT09',\n",
       "       'DELAY'],\n",
       "      dtype='object')"
      ]
     },
     "execution_count": 15,
     "metadata": {},
     "output_type": "execute_result"
    }
   ],
   "source": [
    "df=pd.read_csv('Weather_BTS.csv',index_col=0)\n",
    "df=df[df['DEP_DELAY'].notna()]\n",
    "df=df[df['DEP_DELAY']>=-20]\n",
    "df=df[df[\"DEP_DELAY\"]<=200]\n",
    "delay=[]\n",
    "for i,j in df['DEP_DELAY'].iteritems():\n",
    "    if(j>15):\n",
    "        delay.append(1)\n",
    "    else:\n",
    "        delay.append(0)\n",
    "df['DELAY']=delay\n",
    "df=df.drop(['PGTM','WDF2','WDF5',\"WSF5\",'TMAX', 'TMIN','DEP_DELAY',],axis=1)\n",
    "df['DEP_TIME']=df['DEP_TIME']//100\n",
    "df.columns"
   ]
  },
  {
   "cell_type": "code",
   "execution_count": 16,
   "metadata": {},
   "outputs": [
    {
     "data": {
      "text/plain": [
       "Index(['YEAR', 'MONTH', 'DAY_OF_MONTH', 'OP_UNIQUE_CARRIER', 'DEP_TIME',\n",
       "       'DATE', 'STATION', 'NAME', 'AWND', 'PRCP', 'SNOW', 'SNWD', 'TAVG',\n",
       "       'WSF2', 'WT01', 'WT02', 'WT03', 'WT04', 'WT06', 'WT08', 'WT09',\n",
       "       'DELAY'],\n",
       "      dtype='object')"
      ]
     },
     "execution_count": 16,
     "metadata": {},
     "output_type": "execute_result"
    }
   ],
   "source": [
    "a=[1,2,3,4,6,8,9]\n",
    "for i in a:\n",
    "    s='WT'+str(0)+str(i)\n",
    "    a=np.where(df[s].isna(),0,1)\n",
    "    df[s]=a\n",
    "df.columns"
   ]
  },
  {
   "cell_type": "code",
   "execution_count": 22,
   "metadata": {},
   "outputs": [],
   "source": [
    "holidays = pd.read_csv(\"US Bank holidays.csv\",names=['Date','Holiday'])\n",
    "holidays=holidays[(holidays['Date']>='2013-08') & (holidays['Date']<='2018-08')]\n",
    "holidays['label']=1\n",
    "holidays=holidays.reset_index(drop=True)\n",
    "holidays['Date']=pd.to_datetime(holidays['Date'], format = '%Y-%m-%d')\n",
    "holidays=holidays.drop('Holiday',axis=1)\n",
    "for i,row in holidays.iterrows():\n",
    "    holidays=holidays.append({'Date':row['Date']+dt.timedelta(days=1),'label':0.67},ignore_index=True)\n",
    "    holidays=holidays.append({'Date':row['Date']+dt.timedelta(days=2),'label':0.33},ignore_index=True)\n",
    "    holidays=holidays.append({'Date':row['Date']-dt.timedelta(days=1),'label':0.67},ignore_index=True)\n",
    "    holidays=holidays.append({'Date':row['Date']-dt.timedelta(days=2),'label':0.33},ignore_index=True)\n",
    "holidays['DATE']=holidays[\"Date\"]\n",
    "holidays=holidays.drop('Date',axis=1)\n",
    "df['DATE']=pd.to_datetime(df['DATE'], format = '%Y-%m-%d')"
   ]
  },
  {
   "cell_type": "code",
   "execution_count": 29,
   "metadata": {},
   "outputs": [
    {
     "data": {
      "text/plain": [
       "Index(['YEAR', 'MONTH', 'DAY_OF_MONTH', 'OP_UNIQUE_CARRIER', 'DEP_TIME',\n",
       "       'NAME', 'AWND', 'PRCP', 'SNOW', 'SNWD', 'TAVG', 'WSF2', 'WT01', 'WT02',\n",
       "       'WT03', 'WT04', 'WT06', 'WT08', 'WT09', 'DELAY', 'HOLIDAY'],\n",
       "      dtype='object')"
      ]
     },
     "execution_count": 29,
     "metadata": {},
     "output_type": "execute_result"
    }
   ],
   "source": [
    "merged_df=df.merge(holidays,on='DATE',how='outer')\n",
    "merged_df['HOLIDAY']=merged_df['label'].fillna(0)\n",
    "merged_df=merged_df.drop(['label','DATE','STATION'],axis=1)\n",
    "merged_df.columns"
   ]
  },
  {
   "cell_type": "code",
   "execution_count": 75,
   "metadata": {},
   "outputs": [],
   "source": [
    "carrier=pd.get_dummies(merged_df['OP_UNIQUE_CARRIER'])\n",
    "month=pd.get_dummies(merged_df['MONTH'])\n",
    "month=month.rename({1:'JAN',2:'FEB',3:'MAR',4:'APR',5:'MAY',6:'JUN',7:'JUL',8:'AUG',9:'SEP',10:'OCT',11:'NOV',12:'DEC'},axis=1)\n",
    "time=pd.get_dummies(merged_df['DEP_TIME'])\n",
    "time=time.rename(dict((i,'h'+str(int(i))) for i in time.columns.values),axis=1)\n",
    "time['h0']=time['h0']+time['h24']\n",
    "time=time.drop('h24',axis=1)\n",
    "merged=merged_df.merge(carrier,on=merged_df.index)\n",
    "merged=merged.drop('key_0',axis=1)\n",
    "merged=merged.merge(time,on=merged.index)\n",
    "merged=merged.drop('key_0',axis=1)\n",
    "merged=merged.merge(month,on=merged.index)\n",
    "merged=merged.drop(['OP_UNIQUE_CARRIER','DEP_TIME','MONTH','WSF2','key_0','NAME','YEAR'],axis=1)\n",
    "merged=merged.rename(columns={'DAY_OF_MONTH':'DAY','DELAY':'Y','AWND':'WIND_SPEED','PRCP':'RAIN','SNWD':'SNOW_DEPTH','WT01':'FOG','WT02':'HEAVY_FOG','WT03':'THUNDER','WT04':'HAIL','WT06':'GLAZE','WT08':'HAZE','WT09':'BLOWING_SNOW','holiday':'HOLIDAY'})\n",
    "merged=merged.drop('DAY',axis=1)"
   ]
  },
  {
   "cell_type": "code",
   "execution_count": 76,
   "metadata": {},
   "outputs": [
    {
     "data": {
      "text/plain": [
       "Index(['WIND_SPEED', 'RAIN', 'SNOW', 'SNOW_DEPTH', 'TAVG', 'FOG', 'HEAVY_FOG',\n",
       "       'THUNDER', 'HAIL', 'GLAZE', 'HAZE', 'BLOWING_SNOW', 'Y', 'HOLIDAY',\n",
       "       '9E', 'AA', 'AS', 'B6', 'DL', 'EV', 'HA', 'MQ', 'OH', 'OO', 'UA', 'US',\n",
       "       'VX', 'YX', 'h0', 'h1', 'h2', 'h3', 'h4', 'h5', 'h6', 'h7', 'h8', 'h9',\n",
       "       'h10', 'h11', 'h12', 'h13', 'h14', 'h15', 'h16', 'h17', 'h18', 'h19',\n",
       "       'h20', 'h21', 'h22', 'h23', 'JAN', 'FEB', 'MAR', 'APR', 'MAY', 'JUN',\n",
       "       'JUL', 'AUG', 'SEP', 'OCT', 'NOV', 'DEC'],\n",
       "      dtype='object')"
      ]
     },
     "execution_count": 76,
     "metadata": {},
     "output_type": "execute_result"
    }
   ],
   "source": [
    "merged.columns"
   ]
  },
  {
   "cell_type": "code",
   "execution_count": 77,
   "metadata": {},
   "outputs": [],
   "source": [
    "merged.to_csv('Final.csv')"
   ]
  },
  {
   "cell_type": "code",
   "execution_count": null,
   "metadata": {},
   "outputs": [],
   "source": []
  }
 ],
 "metadata": {
  "kernelspec": {
   "display_name": "Python 3",
   "language": "python",
   "name": "python3"
  },
  "language_info": {
   "codemirror_mode": {
    "name": "ipython",
    "version": 3
   },
   "file_extension": ".py",
   "mimetype": "text/x-python",
   "name": "python",
   "nbconvert_exporter": "python",
   "pygments_lexer": "ipython3",
   "version": "3.6.6"
  }
 },
 "nbformat": 4,
 "nbformat_minor": 2
}
